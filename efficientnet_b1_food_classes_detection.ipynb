{
  "nbformat": 4,
  "nbformat_minor": 0,
  "metadata": {
    "colab": {
      "provenance": [],
      "gpuType": "T4",
      "mount_file_id": "1opxnM-M1cI5T-l_8Ud7urPm8iLB__e7n",
      "authorship_tag": "ABX9TyNeN39U9A9nfycY7gvG/u4U",
      "include_colab_link": true
    },
    "kernelspec": {
      "name": "python3",
      "display_name": "Python 3"
    },
    "language_info": {
      "name": "python"
    },
    "accelerator": "GPU"
  },
  "cells": [
    {
      "cell_type": "markdown",
      "metadata": {
        "id": "view-in-github",
        "colab_type": "text"
      },
      "source": [
        "<a href=\"https://colab.research.google.com/github/ShuqairABD/efficientnet_b1_food_classes_detection/blob/main/efficientnet_b1_food_classes_detection.ipynb\" target=\"_parent\"><img src=\"https://colab.research.google.com/assets/colab-badge.svg\" alt=\"Open In Colab\"/></a>"
      ]
    },
    {
      "cell_type": "markdown",
      "source": [
        "## **start**"
      ],
      "metadata": {
        "id": "IkTBidfQ7TzW"
      }
    },
    {
      "cell_type": "code",
      "source": [
        "from torchvision.models import efficientnet_b0\n",
        "from torchvision.models import efficientnet_b1\n",
        "import torch\n",
        "import torch.nn as nn\n",
        "import torch.optim as optim\n",
        "from torchvision import datasets, transforms\n",
        "from torch.utils.data import DataLoader, random_split\n",
        "from tqdm import tqdm\n",
        "import matplotlib.pyplot as plt\n"
      ],
      "metadata": {
        "id": "AVr_bRMlExTt"
      },
      "execution_count": null,
      "outputs": []
    },
    {
      "cell_type": "code",
      "source": [
        "# to device\n",
        "device = torch.device(\"cuda\" if torch.cuda.is_available() else \"cpu\")\n",
        "print(f\"Using device: {device}\")"
      ],
      "metadata": {
        "colab": {
          "base_uri": "https://localhost:8080/"
        },
        "id": "MpEHOL3nE09V",
        "outputId": "bf515240-baf1-4e5e-b9ca-0796a37fcb19"
      },
      "execution_count": null,
      "outputs": [
        {
          "output_type": "stream",
          "name": "stdout",
          "text": [
            "Using device: cuda\n"
          ]
        }
      ]
    },
    {
      "cell_type": "markdown",
      "source": [
        "## **Подготовка данных**"
      ],
      "metadata": {
        "id": "D80vZqol7XSq"
      }
    },
    {
      "cell_type": "code",
      "source": [
        "# parameters\n",
        "num_classes = 10\n",
        "batch_size = 32\n",
        "num_epochs = 40\n",
        "learning_rate = 0.001\n",
        "\n",
        "\n",
        "transform = transforms.Compose([\n",
        "    transforms.Resize((224, 224)),\n",
        "    transforms.ToTensor(),\n",
        "    transforms.Normalize(mean=[0.485, 0.456, 0.406], std=[0.229, 0.224, 0.225])\n",
        "])\n"
      ],
      "metadata": {
        "id": "AhtnnEsrE62F"
      },
      "execution_count": null,
      "outputs": []
    },
    {
      "cell_type": "code",
      "source": [
        "# Датасет и upload data\n",
        "dataset_path = \"/content/drive/MyDrive/resiezed_food_dataset\"\n",
        "dataset = datasets.ImageFolder(root=dataset_path, transform=transform)\n",
        "\n",
        "train_size = int(0.8 * len(dataset))\n",
        "val_size = len(dataset) - train_size\n",
        "train_dataset, val_dataset = random_split(dataset, [train_size, val_size])\n",
        "\n",
        "train_loader = DataLoader(train_dataset, batch_size=batch_size, shuffle=True)\n",
        "val_loader = DataLoader(val_dataset, batch_size=batch_size, shuffle=False)\n",
        "\n",
        "print(f\"Train dataset size: {len(train_dataset)}\")\n",
        "print(f\"Validation dataset size: {len(val_dataset)}\")\n"
      ],
      "metadata": {
        "colab": {
          "base_uri": "https://localhost:8080/"
        },
        "id": "gxcVjRl4E-H3",
        "outputId": "2550c243-c0e5-48fb-d0aa-aa06805eb338"
      },
      "execution_count": null,
      "outputs": [
        {
          "output_type": "stream",
          "name": "stdout",
          "text": [
            "Train dataset size: 7504\n",
            "Validation dataset size: 1876\n"
          ]
        }
      ]
    },
    {
      "cell_type": "markdown",
      "source": [
        "## **EfficientNet-B1**"
      ],
      "metadata": {
        "id": "G1dZRuB07kGj"
      }
    },
    {
      "cell_type": "code",
      "source": [
        "\n",
        "# EfficientNet-B1\n",
        "model = efficientnet_b1(pretrained=True)\n",
        "model.classifier[1] = nn.Linear(model.classifier[1].in_features, num_classes)\n",
        "model = model.to(device)\n",
        "\n",
        "\n",
        "criterion = nn.CrossEntropyLoss()\n",
        "optimizer = optim.Adam(model.parameters(), lr=learning_rate)\n"
      ],
      "metadata": {
        "colab": {
          "base_uri": "https://localhost:8080/"
        },
        "id": "Gk6LnCipFI7w",
        "outputId": "14c9db7a-9ae3-4b94-8027-253968d79241"
      },
      "execution_count": null,
      "outputs": [
        {
          "output_type": "stream",
          "name": "stderr",
          "text": [
            "/usr/local/lib/python3.10/dist-packages/torchvision/models/_utils.py:208: UserWarning: The parameter 'pretrained' is deprecated since 0.13 and may be removed in the future, please use 'weights' instead.\n",
            "  warnings.warn(\n",
            "/usr/local/lib/python3.10/dist-packages/torchvision/models/_utils.py:223: UserWarning: Arguments other than a weight enum or `None` for 'weights' are deprecated since 0.13 and may be removed in the future. The current behavior is equivalent to passing `weights=EfficientNet_B1_Weights.IMAGENET1K_V1`. You can also use `weights=EfficientNet_B1_Weights.DEFAULT` to get the most up-to-date weights.\n",
            "  warnings.warn(msg)\n",
            "Downloading: \"https://download.pytorch.org/models/efficientnet_b1_rwightman-bac287d4.pth\" to /root/.cache/torch/hub/checkpoints/efficientnet_b1_rwightman-bac287d4.pth\n",
            "100%|██████████| 30.1M/30.1M [00:00<00:00, 160MB/s]\n"
          ]
        }
      ]
    },
    {
      "cell_type": "markdown",
      "source": [
        "## **Обучение**"
      ],
      "metadata": {
        "id": "A4_R05kl7qFo"
      }
    },
    {
      "cell_type": "code",
      "execution_count": null,
      "metadata": {
        "colab": {
          "base_uri": "https://localhost:8080/",
          "height": 1000
        },
        "id": "b4oXPgxuEtk9",
        "outputId": "2202f61a-9e73-440a-dab0-92c6fee43029"
      },
      "outputs": [
        {
          "output_type": "stream",
          "name": "stdout",
          "text": [
            "Эпоха 1/40\n"
          ]
        },
        {
          "output_type": "stream",
          "name": "stderr",
          "text": []
        },
        {
          "output_type": "stream",
          "name": "stdout",
          "text": [
            "Тренировка: Loss = 0.6808, Accuracy = 0.7860\n",
            "Тестирование: Loss = 0.5150, Accuracy = 0.8316\n",
            "Эпоха 2/40\n"
          ]
        },
        {
          "output_type": "stream",
          "name": "stderr",
          "text": []
        },
        {
          "output_type": "stream",
          "name": "stdout",
          "text": [
            "Тренировка: Loss = 0.3465, Accuracy = 0.8902\n",
            "Тестирование: Loss = 0.4198, Accuracy = 0.8635\n",
            "Эпоха 3/40\n"
          ]
        },
        {
          "output_type": "stream",
          "name": "stderr",
          "text": []
        },
        {
          "output_type": "stream",
          "name": "stdout",
          "text": [
            "Тренировка: Loss = 0.2356, Accuracy = 0.9224\n",
            "Тестирование: Loss = 0.5384, Accuracy = 0.8374\n",
            "Эпоха 4/40\n"
          ]
        },
        {
          "output_type": "stream",
          "name": "stderr",
          "text": []
        },
        {
          "output_type": "stream",
          "name": "stdout",
          "text": [
            "Тренировка: Loss = 0.1649, Accuracy = 0.9432\n",
            "Тестирование: Loss = 0.5045, Accuracy = 0.8566\n",
            "Эпоха 5/40\n"
          ]
        },
        {
          "output_type": "stream",
          "name": "stderr",
          "text": []
        },
        {
          "output_type": "stream",
          "name": "stdout",
          "text": [
            "Тренировка: Loss = 0.1530, Accuracy = 0.9467\n",
            "Тестирование: Loss = 0.6471, Accuracy = 0.8438\n",
            "Эпоха 6/40\n"
          ]
        },
        {
          "output_type": "stream",
          "name": "stderr",
          "text": []
        },
        {
          "output_type": "stream",
          "name": "stdout",
          "text": [
            "Тренировка: Loss = 0.1408, Accuracy = 0.9528\n",
            "Тестирование: Loss = 0.5764, Accuracy = 0.8577\n",
            "Эпоха 7/40\n"
          ]
        },
        {
          "output_type": "stream",
          "name": "stderr",
          "text": []
        },
        {
          "output_type": "stream",
          "name": "stdout",
          "text": [
            "Тренировка: Loss = 0.1128, Accuracy = 0.9626\n",
            "Тестирование: Loss = 0.5276, Accuracy = 0.8491\n",
            "Эпоха 8/40\n"
          ]
        },
        {
          "output_type": "stream",
          "name": "stderr",
          "text": []
        },
        {
          "output_type": "stream",
          "name": "stdout",
          "text": [
            "Тренировка: Loss = 0.1230, Accuracy = 0.9596\n",
            "Тестирование: Loss = 0.5397, Accuracy = 0.8593\n",
            "Эпоха 9/40\n"
          ]
        },
        {
          "output_type": "stream",
          "name": "stderr",
          "text": []
        },
        {
          "output_type": "stream",
          "name": "stdout",
          "text": [
            "Тренировка: Loss = 0.0968, Accuracy = 0.9700\n",
            "Тестирование: Loss = 0.7363, Accuracy = 0.8262\n",
            "Эпоха 10/40\n"
          ]
        },
        {
          "output_type": "stream",
          "name": "stderr",
          "text": []
        },
        {
          "output_type": "stream",
          "name": "stdout",
          "text": [
            "Тренировка: Loss = 0.0781, Accuracy = 0.9745\n",
            "Тестирование: Loss = 0.5785, Accuracy = 0.8609\n",
            "Эпоха 11/40\n"
          ]
        },
        {
          "output_type": "stream",
          "name": "stderr",
          "text": []
        },
        {
          "output_type": "stream",
          "name": "stdout",
          "text": [
            "Тренировка: Loss = 0.0875, Accuracy = 0.9707\n",
            "Тестирование: Loss = 0.5556, Accuracy = 0.8582\n",
            "Эпоха 12/40\n"
          ]
        },
        {
          "output_type": "stream",
          "name": "stderr",
          "text": []
        },
        {
          "output_type": "stream",
          "name": "stdout",
          "text": [
            "Тренировка: Loss = 0.0680, Accuracy = 0.9788\n",
            "Тестирование: Loss = 0.6696, Accuracy = 0.8486\n",
            "Эпоха 13/40\n"
          ]
        },
        {
          "output_type": "stream",
          "name": "stderr",
          "text": []
        },
        {
          "output_type": "stream",
          "name": "stdout",
          "text": [
            "Тренировка: Loss = 0.0782, Accuracy = 0.9733\n",
            "Тестирование: Loss = 0.6216, Accuracy = 0.8545\n",
            "Эпоха 14/40\n"
          ]
        },
        {
          "output_type": "stream",
          "name": "stderr",
          "text": []
        },
        {
          "output_type": "stream",
          "name": "stdout",
          "text": [
            "Тренировка: Loss = 0.0781, Accuracy = 0.9733\n",
            "Тестирование: Loss = 0.6421, Accuracy = 0.8470\n",
            "Эпоха 15/40\n"
          ]
        },
        {
          "output_type": "stream",
          "name": "stderr",
          "text": []
        },
        {
          "output_type": "stream",
          "name": "stdout",
          "text": [
            "Тренировка: Loss = 0.0780, Accuracy = 0.9732\n",
            "Тестирование: Loss = 0.5542, Accuracy = 0.8721\n",
            "Эпоха 16/40\n"
          ]
        },
        {
          "output_type": "stream",
          "name": "stderr",
          "text": []
        },
        {
          "output_type": "stream",
          "name": "stdout",
          "text": [
            "Тренировка: Loss = 0.0564, Accuracy = 0.9816\n",
            "Тестирование: Loss = 0.6063, Accuracy = 0.8545\n",
            "Эпоха 17/40\n"
          ]
        },
        {
          "output_type": "stream",
          "name": "stderr",
          "text": []
        },
        {
          "output_type": "stream",
          "name": "stdout",
          "text": [
            "Тренировка: Loss = 0.0667, Accuracy = 0.9795\n",
            "Тестирование: Loss = 0.6950, Accuracy = 0.8385\n",
            "Эпоха 18/40\n"
          ]
        },
        {
          "output_type": "stream",
          "name": "stderr",
          "text": []
        },
        {
          "output_type": "stream",
          "name": "stdout",
          "text": [
            "Тренировка: Loss = 0.0697, Accuracy = 0.9792\n",
            "Тестирование: Loss = 0.6365, Accuracy = 0.8635\n",
            "Эпоха 19/40\n"
          ]
        },
        {
          "output_type": "stream",
          "name": "stderr",
          "text": []
        },
        {
          "output_type": "stream",
          "name": "stdout",
          "text": [
            "Тренировка: Loss = 0.0533, Accuracy = 0.9823\n",
            "Тестирование: Loss = 0.9337, Accuracy = 0.8246\n",
            "Эпоха 20/40\n"
          ]
        },
        {
          "output_type": "stream",
          "name": "stderr",
          "text": []
        },
        {
          "output_type": "stream",
          "name": "stdout",
          "text": [
            "Тренировка: Loss = 0.0802, Accuracy = 0.9761\n",
            "Тестирование: Loss = 0.6907, Accuracy = 0.8454\n",
            "Эпоха 21/40\n"
          ]
        },
        {
          "output_type": "stream",
          "name": "stderr",
          "text": []
        },
        {
          "output_type": "stream",
          "name": "stdout",
          "text": [
            "Тренировка: Loss = 0.0616, Accuracy = 0.9799\n",
            "Тестирование: Loss = 0.6869, Accuracy = 0.8459\n",
            "Эпоха 22/40\n"
          ]
        },
        {
          "output_type": "stream",
          "name": "stderr",
          "text": []
        },
        {
          "output_type": "stream",
          "name": "stdout",
          "text": [
            "Тренировка: Loss = 0.0603, Accuracy = 0.9799\n",
            "Тестирование: Loss = 0.6900, Accuracy = 0.8507\n",
            "Эпоха 23/40\n"
          ]
        },
        {
          "output_type": "stream",
          "name": "stderr",
          "text": []
        },
        {
          "output_type": "stream",
          "name": "stdout",
          "text": [
            "Тренировка: Loss = 0.0558, Accuracy = 0.9819\n",
            "Тестирование: Loss = 0.6565, Accuracy = 0.8470\n",
            "Эпоха 24/40\n"
          ]
        },
        {
          "output_type": "stream",
          "name": "stderr",
          "text": []
        },
        {
          "output_type": "stream",
          "name": "stdout",
          "text": [
            "Тренировка: Loss = 0.0525, Accuracy = 0.9836\n",
            "Тестирование: Loss = 0.6921, Accuracy = 0.8470\n",
            "Эпоха 25/40\n"
          ]
        },
        {
          "output_type": "stream",
          "name": "stderr",
          "text": []
        },
        {
          "output_type": "stream",
          "name": "stdout",
          "text": [
            "Тренировка: Loss = 0.0458, Accuracy = 0.9851\n",
            "Тестирование: Loss = 0.6986, Accuracy = 0.8545\n",
            "Эпоха 26/40\n"
          ]
        },
        {
          "output_type": "stream",
          "name": "stderr",
          "text": []
        },
        {
          "output_type": "stream",
          "name": "stdout",
          "text": [
            "Тренировка: Loss = 0.0663, Accuracy = 0.9759\n",
            "Тестирование: Loss = 0.7844, Accuracy = 0.8401\n",
            "Эпоха 27/40\n"
          ]
        },
        {
          "output_type": "stream",
          "name": "stderr",
          "text": []
        },
        {
          "output_type": "stream",
          "name": "stdout",
          "text": [
            "Тренировка: Loss = 0.0719, Accuracy = 0.9763\n",
            "Тестирование: Loss = 0.6772, Accuracy = 0.8491\n",
            "Эпоха 28/40\n"
          ]
        },
        {
          "output_type": "stream",
          "name": "stderr",
          "text": []
        },
        {
          "output_type": "stream",
          "name": "stdout",
          "text": [
            "Тренировка: Loss = 0.0463, Accuracy = 0.9855\n",
            "Тестирование: Loss = 0.6794, Accuracy = 0.8518\n",
            "Эпоха 29/40\n"
          ]
        },
        {
          "output_type": "stream",
          "name": "stderr",
          "text": []
        },
        {
          "output_type": "stream",
          "name": "stdout",
          "text": [
            "Тренировка: Loss = 0.0284, Accuracy = 0.9903\n",
            "Тестирование: Loss = 0.6297, Accuracy = 0.8646\n",
            "Эпоха 30/40\n"
          ]
        },
        {
          "output_type": "stream",
          "name": "stderr",
          "text": []
        },
        {
          "output_type": "stream",
          "name": "stdout",
          "text": [
            "Тренировка: Loss = 0.0432, Accuracy = 0.9861\n",
            "Тестирование: Loss = 0.7357, Accuracy = 0.8507\n",
            "Эпоха 31/40\n"
          ]
        },
        {
          "output_type": "stream",
          "name": "stderr",
          "text": []
        },
        {
          "output_type": "stream",
          "name": "stdout",
          "text": [
            "Тренировка: Loss = 0.0407, Accuracy = 0.9876\n",
            "Тестирование: Loss = 0.7355, Accuracy = 0.8465\n",
            "Эпоха 32/40\n"
          ]
        },
        {
          "output_type": "stream",
          "name": "stderr",
          "text": []
        },
        {
          "output_type": "stream",
          "name": "stdout",
          "text": [
            "Тренировка: Loss = 0.0430, Accuracy = 0.9865\n",
            "Тестирование: Loss = 0.6819, Accuracy = 0.8507\n",
            "Эпоха 33/40\n"
          ]
        },
        {
          "output_type": "stream",
          "name": "stderr",
          "text": []
        },
        {
          "output_type": "stream",
          "name": "stdout",
          "text": [
            "Тренировка: Loss = 0.0715, Accuracy = 0.9768\n",
            "Тестирование: Loss = 0.7691, Accuracy = 0.8273\n",
            "Эпоха 34/40\n"
          ]
        },
        {
          "output_type": "stream",
          "name": "stderr",
          "text": []
        },
        {
          "output_type": "stream",
          "name": "stdout",
          "text": [
            "Тренировка: Loss = 0.0308, Accuracy = 0.9909\n",
            "Тестирование: Loss = 0.6282, Accuracy = 0.8753\n",
            "Эпоха 35/40\n"
          ]
        },
        {
          "output_type": "stream",
          "name": "stderr",
          "text": []
        },
        {
          "output_type": "stream",
          "name": "stdout",
          "text": [
            "Тренировка: Loss = 0.0222, Accuracy = 0.9923\n",
            "Тестирование: Loss = 0.8318, Accuracy = 0.8539\n",
            "Эпоха 36/40\n"
          ]
        },
        {
          "output_type": "stream",
          "name": "stderr",
          "text": []
        },
        {
          "output_type": "stream",
          "name": "stdout",
          "text": [
            "Тренировка: Loss = 0.0406, Accuracy = 0.9863\n",
            "Тестирование: Loss = 0.8438, Accuracy = 0.8396\n",
            "Эпоха 37/40\n"
          ]
        },
        {
          "output_type": "stream",
          "name": "stderr",
          "text": []
        },
        {
          "output_type": "stream",
          "name": "stdout",
          "text": [
            "Тренировка: Loss = 0.0596, Accuracy = 0.9821\n",
            "Тестирование: Loss = 0.6983, Accuracy = 0.8358\n",
            "Эпоха 38/40\n"
          ]
        },
        {
          "output_type": "stream",
          "name": "stderr",
          "text": []
        },
        {
          "output_type": "stream",
          "name": "stdout",
          "text": [
            "Тренировка: Loss = 0.0418, Accuracy = 0.9852\n",
            "Тестирование: Loss = 0.7083, Accuracy = 0.8523\n",
            "Эпоха 39/40\n"
          ]
        },
        {
          "output_type": "stream",
          "name": "stderr",
          "text": []
        },
        {
          "output_type": "stream",
          "name": "stdout",
          "text": [
            "Тренировка: Loss = 0.0355, Accuracy = 0.9888\n",
            "Тестирование: Loss = 0.9230, Accuracy = 0.8262\n",
            "Эпоха 40/40\n"
          ]
        },
        {
          "output_type": "stream",
          "name": "stderr",
          "text": []
        },
        {
          "output_type": "stream",
          "name": "stdout",
          "text": [
            "Тренировка: Loss = 0.0501, Accuracy = 0.9857\n",
            "Тестирование: Loss = 0.6364, Accuracy = 0.8561\n",
            "Модель сохранена в 'efficientnet_food_model.pth'\n"
          ]
        },
        {
          "output_type": "display_data",
          "data": {
            "text/plain": [
              "<Figure size 1000x500 with 2 Axes>"
            ],
            "image/png": "[encoded data removed]"
          },
          "metadata": {}
        }
      ],
      "source": [
        "\n",
        "# train and val\n",
        "train_losses, val_losses = [], []\n",
        "train_accuracies, val_accuracies = [], []\n",
        "\n",
        "for epoch in range(num_epochs):\n",
        "    print(f\"Эпоха {epoch+1}/{num_epochs}\")\n",
        "\n",
        "    # Train\n",
        "    model.train()\n",
        "    running_loss, correct, total = 0.0, 0, 0\n",
        "    train_progress = tqdm(train_loader, desc=\"Тренировка\", leave=False)\n",
        "\n",
        "    for inputs, labels in train_progress:\n",
        "        inputs, labels = inputs.to(device), labels.to(device)\n",
        "        optimizer.zero_grad()\n",
        "        outputs = model(inputs)\n",
        "        loss = criterion(outputs, labels)\n",
        "        loss.backward()\n",
        "        optimizer.step()\n",
        "\n",
        "        running_loss += loss.item()\n",
        "        _, predicted = torch.max(outputs, 1)\n",
        "        correct += (predicted == labels).sum().item()\n",
        "        total += labels.size(0)\n",
        "        train_progress.set_postfix({\"Loss\": running_loss / len(train_loader)})\n",
        "\n",
        "    train_losses.append(running_loss / len(train_loader))\n",
        "    train_accuracies.append(correct / total)\n",
        "\n",
        "    # Val\n",
        "    model.eval()\n",
        "    val_loss, correct, total = 0.0, 0, 0\n",
        "    val_progress = tqdm(val_loader, desc=\"Оценка\", leave=False)\n",
        "\n",
        "    with torch.no_grad():\n",
        "        for inputs, labels in val_progress:\n",
        "            inputs, labels = inputs.to(device), labels.to(device)\n",
        "            outputs = model(inputs)\n",
        "            loss = criterion(outputs, labels)\n",
        "            val_loss += loss.item()\n",
        "            _, predicted = torch.max(outputs, 1)\n",
        "            correct += (predicted == labels).sum().item()\n",
        "            total += labels.size(0)\n",
        "            val_progress.set_postfix({\"Val Loss\": val_loss / len(val_loader)})\n",
        "\n",
        "    val_losses.append(val_loss / len(val_loader))\n",
        "    val_accuracies.append(correct / total)\n",
        "\n",
        "    print(f\"Тренировка: Loss = {train_losses[-1]:.4f}, Accuracy = {train_accuracies[-1]:.4f}\")\n",
        "    print(f\"Тестирование: Loss = {val_losses[-1]:.4f}, Accuracy = {val_accuracies[-1]:.4f}\")\n",
        "\n",
        "# save model\n",
        "torch.save(model.state_dict(), \"efficientnet_food_model.pth\")\n",
        "print(\"Модель сохранена в 'efficientnet_food_model.pth'\")\n",
        "\n",
        "# Графики\n",
        "plt.figure(figsize=(10, 5))\n",
        "plt.subplot(1, 2, 1)\n",
        "plt.plot(train_losses, label=\"Train Loss\")\n",
        "plt.plot(val_losses, label=\"Validation Loss\")\n",
        "plt.title(\"Loss\")\n",
        "plt.xlabel(\"Epochs\")\n",
        "plt.ylabel(\"Loss\")\n",
        "plt.legend()\n",
        "\n",
        "plt.subplot(1, 2, 2)\n",
        "plt.plot(train_accuracies, label=\"Train Accuracy\")\n",
        "plt.plot(val_accuracies, label=\"Validation Accuracy\")\n",
        "plt.title(\"Accuracy\")\n",
        "plt.xlabel(\"Epochs\")\n",
        "plt.ylabel(\"Accuracy\")\n",
        "plt.legend()\n",
        "\n",
        "plt.tight_layout()\n",
        "plt.show()\n"
      ]
    }
  ]
}